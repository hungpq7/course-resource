{
  "nbformat": 4,
  "nbformat_minor": 0,
  "metadata": {
    "colab": {
      "provenance": [],
      "toc_visible": true,
      "authorship_tag": "ABX9TyM9ex+EMlndoMjzQ9/zSyPM"
    },
    "kernelspec": {
      "name": "python3",
      "display_name": "Python 3"
    },
    "language_info": {
      "name": "python"
    }
  },
  "cells": [
    {
      "cell_type": "markdown",
      "metadata": {
        "tags": [],
        "id": "0b64899c-de50-430d-a384-413f4495fbf4"
      },
      "source": [
        "# 1.&nbsp;Overview\n"
      ]
    },
    {
      "cell_type": "markdown",
      "source": [
        "Cấu trúc giá thành của một đôi giày Nike\n",
        "\n",
        "<br>\n",
        "<center>\n",
        "<img src=\"https://raw.githubusercontent.com/hungpq7/course-resource/main/image/nike_shoe_cost.webp\" width=500px;\"/>\n",
        "</center>\n",
        "<br>\n",
        "\n",
        "*Nguồn: https://www.solereview.com/what-does-it-cost-to-make-a-running-shoe/*"
      ],
      "metadata": {
        "id": "4FBlvm_VbzR4"
      }
    },
    {
      "cell_type": "markdown",
      "source": [
        "**Thảo luận**: Bạn còn nhớ kiến thức gì được học về Xác suất - Thống kê khi đi học không? Đó là gì? Các khó khăn bạn gặp khi học xác suất thống kê hồi đó là gì?"
      ],
      "metadata": {
        "id": "eoLeSxMqamII"
      }
    },
    {
      "cell_type": "markdown",
      "metadata": {
        "id": "e0d27ee1-c651-4fb6-ae96-d342666370c0"
      },
      "source": [
        "## 1.1. Xác suất\n",
        "Định nghĩa từ Wikipedia:\n",
        "\n",
        "> Xác suất là một nhánh của toán học liên quan đến các mô tả bằng số về khả năng xảy ra một sự kiện. Xác suất của một sự kiện là một số trong khoảng từ 0 đến 1, trong đó, 0 biểu thị sự bất khả thi và 1 biểu thị sự chắc chắn. Xác suất càng lớn thì khả năng xảy ra sự kiện càng cao.\n",
        "\n",
        "Ví dụ: ChatGPT suy nghĩ như thế nào?\n",
        "\n",
        "<center>\n",
        "<img src=\"https://raw.githubusercontent.com/hungpq7/course-resource/main/image/chatgpt_spectrum.png\" width=700px;\"/>\n",
        "</center>\n",
        "<br>\n",
        "\n",
        "*Nguồn: https://platform.openai.com/playground*\n"
      ]
    },
    {
      "cell_type": "markdown",
      "metadata": {
        "id": "2a64dbd5-faeb-474b-8791-85e4136c4517"
      },
      "source": [
        "## 1.2. Thống kê\n",
        "> Thống kê là khoa học nghiên cứu hệ thống các phương pháp thu thập, xử lý và phân tích các con số của những hiện tượng số lớn để tìm hiểu bản chất và tính quy luật vốn có của chúng trong điều kiện nhất định. Vai trò quan trọng của thống kê chính là tìm ra ý nghĩa hay bản chất đằng sau các con số, làm cơ sở cho việc ra quyết định.\n",
        "\n",
        "Vai trò của Thống kê:\n",
        "- Phản ánh những quy luật về lượng của các hiện tượng trong tự nhiên, kinh tế, xã hội.\n",
        "- Tìm ra ý nghĩa đằng sau những con số, làm cơ sở cho việc ra quyết định.\n",
        "\n",
        "Ví dụ: Công ty bạn thực hiện 1 chiến dịch marketing trên 2 kênh Facebook và Google, sau khi triển khai 1 thời gian bạn muốn kiểm định xem chiến dịch nào hiệu quả hơn để có thể tập trung nguồn lực cho kênh đó. Bạn bắt đầu thu thập dữ liệu về các chiến dịch, số install, số KH mua hàng, chi phí,... và thực hiện các kiểm định thống kê để đưa ra kết luận"
      ]
    },
    {
      "cell_type": "markdown",
      "metadata": {
        "id": "6e4546ea-ef7e-4c1c-9eb4-28706250b42e"
      },
      "source": [
        "# 2.&nbsp;Python cơ bản"
      ]
    },
    {
      "cell_type": "markdown",
      "metadata": {
        "id": "06b315cb-20a6-49c8-bbaf-3cfbdb544195"
      },
      "source": [
        "## 2.1. Basic concepts"
      ]
    },
    {
      "cell_type": "markdown",
      "metadata": {
        "id": "e9859b3f-bca3-4a30-a321-2606912a6cf4"
      },
      "source": [
        "#### Object"
      ]
    },
    {
      "cell_type": "markdown",
      "metadata": {
        "id": "UufK0MSCcl31"
      },
      "source": [
        "**Object** là đối tượng làm việc chính trong Python. Mọi tác vụ đều được thực hiện xoay quanh object."
      ]
    },
    {
      "cell_type": "code",
      "execution_count": null,
      "metadata": {
        "id": "6ui8fw5ecl32",
        "outputId": "a418fffc-fbbf-4375-dc72-42fa4d545f20"
      },
      "outputs": [
        {
          "data": {
            "text/plain": [
              "100"
            ]
          },
          "execution_count": 12,
          "metadata": {},
          "output_type": "execute_result"
        }
      ],
      "source": [
        "100"
      ]
    },
    {
      "cell_type": "code",
      "source": [
        "100 - 38.5"
      ],
      "metadata": {
        "colab": {
          "base_uri": "https://localhost:8080/"
        },
        "id": "6TU_dcuoePc4",
        "outputId": "9a7a090e-2fb5-49a3-d930-6e0142faa91d"
      },
      "execution_count": null,
      "outputs": [
        {
          "output_type": "execute_result",
          "data": {
            "text/plain": [
              "61.5"
            ]
          },
          "metadata": {},
          "execution_count": 3
        }
      ]
    },
    {
      "cell_type": "markdown",
      "metadata": {
        "id": "QADKLW_hcl34"
      },
      "source": [
        "Mỗi object được phân loại vào một **type** cụ thể, phổ biến nhất là:\n",
        "- `int` (integer - số nguyên)\n",
        "- `float` (số thập phân)\n",
        "- `str` (string - chuỗi ký tự)"
      ]
    },
    {
      "cell_type": "code",
      "execution_count": null,
      "metadata": {
        "id": "wM7cDfC6cl34",
        "outputId": "267f0295-d9d2-4368-8247-81629f6abe6f"
      },
      "outputs": [
        {
          "data": {
            "text/plain": [
              "int"
            ]
          },
          "execution_count": 14,
          "metadata": {},
          "output_type": "execute_result"
        }
      ],
      "source": [
        "type(100)"
      ]
    },
    {
      "cell_type": "code",
      "source": [
        "type(38.5)"
      ],
      "metadata": {
        "colab": {
          "base_uri": "https://localhost:8080/"
        },
        "id": "pkLAQwz9hDZv",
        "outputId": "761d54e3-0964-47b7-a663-d8abdd160992"
      },
      "execution_count": null,
      "outputs": [
        {
          "output_type": "execute_result",
          "data": {
            "text/plain": [
              "float"
            ]
          },
          "metadata": {},
          "execution_count": 4
        }
      ]
    },
    {
      "cell_type": "code",
      "source": [
        "type(1e4)"
      ],
      "metadata": {
        "colab": {
          "base_uri": "https://localhost:8080/"
        },
        "id": "S-rtff_Tus49",
        "outputId": "c0dc7886-9305-41c7-ad51-617885b31088"
      },
      "execution_count": null,
      "outputs": [
        {
          "output_type": "execute_result",
          "data": {
            "text/plain": [
              "float"
            ]
          },
          "metadata": {},
          "execution_count": 3
        }
      ]
    },
    {
      "cell_type": "code",
      "execution_count": null,
      "metadata": {
        "id": "YQsSP486cl35",
        "outputId": "76d4e2d5-ecca-40df-8699-799c005ca6d0"
      },
      "outputs": [
        {
          "data": {
            "text/plain": [
              "str"
            ]
          },
          "execution_count": 15,
          "metadata": {},
          "output_type": "execute_result"
        }
      ],
      "source": [
        "type('python')"
      ]
    },
    {
      "cell_type": "markdown",
      "source": [
        "Chuyển đổi giữa các loại object (data type) với nhau."
      ],
      "metadata": {
        "id": "6VpXt8eduZsd"
      }
    },
    {
      "cell_type": "code",
      "source": [
        "int(3.14)"
      ],
      "metadata": {
        "colab": {
          "base_uri": "https://localhost:8080/"
        },
        "id": "P41xrXYZugFl",
        "outputId": "e4908cba-392e-4fc9-da2e-739608b078b2"
      },
      "execution_count": null,
      "outputs": [
        {
          "output_type": "execute_result",
          "data": {
            "text/plain": [
              "3"
            ]
          },
          "metadata": {},
          "execution_count": 1
        }
      ]
    },
    {
      "cell_type": "code",
      "source": [
        "int('43')"
      ],
      "metadata": {
        "colab": {
          "base_uri": "https://localhost:8080/"
        },
        "id": "kUWW6i4auh6H",
        "outputId": "7776734d-f906-45ef-f1f8-8d836411f57b"
      },
      "execution_count": null,
      "outputs": [
        {
          "output_type": "execute_result",
          "data": {
            "text/plain": [
              "43"
            ]
          },
          "metadata": {},
          "execution_count": 2
        }
      ]
    },
    {
      "cell_type": "code",
      "source": [
        "float('0.5')"
      ],
      "metadata": {
        "colab": {
          "base_uri": "https://localhost:8080/"
        },
        "id": "BgvVTRwGulF0",
        "outputId": "05eb1c1b-9889-4a43-a3da-ac19152d252d"
      },
      "execution_count": null,
      "outputs": [
        {
          "output_type": "execute_result",
          "data": {
            "text/plain": [
              "0.5"
            ]
          },
          "metadata": {},
          "execution_count": 4
        }
      ]
    },
    {
      "cell_type": "code",
      "source": [
        "str(3*2)"
      ],
      "metadata": {
        "colab": {
          "base_uri": "https://localhost:8080/",
          "height": 35
        },
        "id": "Cj5qUX0tuy-a",
        "outputId": "e176569f-cc32-4186-880e-763151c8bfd2"
      },
      "execution_count": null,
      "outputs": [
        {
          "output_type": "execute_result",
          "data": {
            "text/plain": [
              "'6'"
            ],
            "application/vnd.google.colaboratory.intrinsic+json": {
              "type": "string"
            }
          },
          "metadata": {},
          "execution_count": 5
        }
      ]
    },
    {
      "cell_type": "markdown",
      "source": [
        "### Biến và phép gán"
      ],
      "metadata": {
        "id": "ZO03QuvquOru"
      }
    },
    {
      "cell_type": "markdown",
      "metadata": {
        "id": "TNu8KZgGcl35"
      },
      "source": [
        "Gán giá trị của một object cho một **variable** (biến) giống như đặt tên cho object. Nguyên tắc đặt tên biến:\n",
        "- Chỉ được chứa chữ, số và ký tự underscore `_`\n",
        "- Không được chứa khoảng trắng và các ký tự đặc biệt\n",
        "- Phân biệt viết hoa và viết thường\n",
        "- Nên đặt rõ nghĩa. Hạn chế đặt tên biến là `a`, `b`, `x`, `y`."
      ]
    },
    {
      "cell_type": "code",
      "execution_count": null,
      "metadata": {
        "id": "nR73iRibcl36",
        "colab": {
          "base_uri": "https://localhost:8080/"
        },
        "outputId": "e7a53715-48e4-43b0-9e4b-09a56e92248d"
      },
      "outputs": [
        {
          "output_type": "execute_result",
          "data": {
            "text/plain": [
              "18"
            ]
          },
          "metadata": {},
          "execution_count": 3
        }
      ],
      "source": [
        "this_year = 2019\n",
        "birth_year = 2001\n",
        "\n",
        "age = this_year - birth_year\n",
        "age"
      ]
    },
    {
      "cell_type": "code",
      "source": [
        "# overwrite\n",
        "year = 2020\n",
        "year = year + 2\n",
        "year"
      ],
      "metadata": {
        "colab": {
          "base_uri": "https://localhost:8080/"
        },
        "id": "co4Ro0c6vCWF",
        "outputId": "168afff5-b076-421a-fa62-c8fa75a59d22"
      },
      "execution_count": null,
      "outputs": [
        {
          "output_type": "execute_result",
          "data": {
            "text/plain": [
              "2022"
            ]
          },
          "metadata": {},
          "execution_count": 6
        }
      ]
    },
    {
      "cell_type": "markdown",
      "metadata": {
        "id": "5l9XnrNscl30"
      },
      "source": [
        "### Function\n",
        "**Function** (hàm) nhận đầu vào là một object, thực hiện xử lý tính toán và trả về một object khác. Một số hàm phổ biến:\n",
        "- `print()` in giá trị ra màn hình\n",
        "- `type()` xác định kiểu dữ liệu của object\n",
        "- `len()` đo độ dài của một string"
      ]
    },
    {
      "cell_type": "code",
      "execution_count": null,
      "metadata": {
        "id": "VltsBnvccl30",
        "outputId": "9612943b-b3d6-4588-f84d-7105afe88475",
        "colab": {
          "base_uri": "https://localhost:8080/"
        }
      },
      "outputs": [
        {
          "output_type": "stream",
          "name": "stdout",
          "text": [
            "3.14\n",
            "python\n"
          ]
        }
      ],
      "source": [
        "print(3.14)\n",
        "print('python')"
      ]
    },
    {
      "cell_type": "code",
      "source": [
        "# string length\n",
        "len('python')"
      ],
      "metadata": {
        "colab": {
          "base_uri": "https://localhost:8080/"
        },
        "id": "7j8SjEs9FlTR",
        "outputId": "8cfb803a-d30c-4893-f099-9eb95e403369"
      },
      "execution_count": null,
      "outputs": [
        {
          "output_type": "execute_result",
          "data": {
            "text/plain": [
              "6"
            ]
          },
          "metadata": {},
          "execution_count": 1
        }
      ]
    },
    {
      "cell_type": "markdown",
      "source": [
        "**Comment** bắt đầu bằng dấu `#`, chỉ mang tính giải thích và không được thực hiện. Phím tắt: `Ctrl` + `/`. Mục đích sử dụng comment:\n",
        "- Giải thích quá trình suy nghĩ\n",
        "- Backup việc xóa code"
      ],
      "metadata": {
        "id": "VBcZ-TtoS1iC"
      }
    },
    {
      "cell_type": "markdown",
      "metadata": {
        "id": "545b3616-e03b-413e-ab52-e5cc5144deaa"
      },
      "source": [
        "### Các loại dấu"
      ]
    },
    {
      "cell_type": "code",
      "execution_count": null,
      "metadata": {
        "datalore": {
          "sheet_delimiter": false
        },
        "id": "3536bf4d-399f-4f1f-83c5-64bf2f3dc4de"
      },
      "outputs": [],
      "source": [
        "# phép cộng\n",
        "123 + 532"
      ]
    },
    {
      "cell_type": "code",
      "execution_count": null,
      "metadata": {
        "datalore": {
          "sheet_delimiter": false
        },
        "id": "129a5dc0-12e9-4fb4-9081-3062abacf08f"
      },
      "outputs": [],
      "source": [
        "# phép trừ\n",
        "555 - 143"
      ]
    },
    {
      "cell_type": "code",
      "execution_count": null,
      "metadata": {
        "datalore": {
          "sheet_delimiter": false
        },
        "id": "16d57fc6-5c8f-4fcb-a40d-d543528d49bf"
      },
      "outputs": [],
      "source": [
        "# phép nhân\n",
        "124 * 936"
      ]
    },
    {
      "cell_type": "code",
      "execution_count": null,
      "metadata": {
        "datalore": {
          "sheet_delimiter": false
        },
        "id": "edcb9935-8f06-48b1-9b36-1898b3107e0f"
      },
      "outputs": [],
      "source": [
        "# phép chia\n",
        "48 / 12"
      ]
    },
    {
      "cell_type": "code",
      "execution_count": null,
      "metadata": {
        "datalore": {
          "sheet_delimiter": false
        },
        "id": "3930df37-9aec-4598-93a8-54a44a7fb4a0"
      },
      "outputs": [],
      "source": [
        "# lỗi\n",
        "5 / 0"
      ]
    },
    {
      "cell_type": "code",
      "execution_count": null,
      "metadata": {
        "datalore": {
          "sheet_delimiter": false
        },
        "id": "8a992bb1-c151-4984-b6b6-01c46cb05ed6"
      },
      "outputs": [],
      "source": [
        "# phép lũy thừa\n",
        "2 ** 5"
      ]
    },
    {
      "cell_type": "code",
      "execution_count": null,
      "metadata": {
        "datalore": {
          "sheet_delimiter": false
        },
        "id": "fe3e799b-2dfa-41c9-816e-7715168e7dde"
      },
      "outputs": [],
      "source": [
        "# dấu so sánh\n",
        "7 == 7"
      ]
    },
    {
      "cell_type": "code",
      "execution_count": null,
      "metadata": {
        "datalore": {
          "sheet_delimiter": false
        },
        "id": "fae435c8-7722-4aae-851e-bc7d1b38edac"
      },
      "outputs": [],
      "source": [
        "7 > 4"
      ]
    },
    {
      "cell_type": "code",
      "execution_count": null,
      "metadata": {
        "datalore": {
          "sheet_delimiter": false
        },
        "id": "35467ec5-e70b-481a-b19b-e279e6c49194"
      },
      "outputs": [],
      "source": [
        "5 >= 3"
      ]
    },
    {
      "cell_type": "markdown",
      "source": [
        "### Formatting"
      ],
      "metadata": {
        "id": "CwRo6O-toKHQ"
      }
    },
    {
      "cell_type": "code",
      "source": [
        "print('Hello!')"
      ],
      "metadata": {
        "id": "nBRyh9hsoOT3"
      },
      "execution_count": null,
      "outputs": []
    },
    {
      "cell_type": "code",
      "source": [
        "age = 25\n",
        "print(f'Tuổi của mình là {age}')"
      ],
      "metadata": {
        "colab": {
          "base_uri": "https://localhost:8080/"
        },
        "id": "ZY4mCFtnoOrL",
        "outputId": "74844784-0e96-459f-f128-25ecb7275a63"
      },
      "execution_count": null,
      "outputs": [
        {
          "output_type": "stream",
          "name": "stdout",
          "text": [
            "Tuổi của mình là 25\n"
          ]
        }
      ]
    },
    {
      "cell_type": "code",
      "source": [
        "prob = 0.6325\n",
        "print(f'{prob:.2%}')"
      ],
      "metadata": {
        "colab": {
          "base_uri": "https://localhost:8080/"
        },
        "id": "69CtpZIcoom9",
        "outputId": "2208e45f-0275-409a-c76e-6875c9b328da"
      },
      "execution_count": null,
      "outputs": [
        {
          "output_type": "stream",
          "name": "stdout",
          "text": [
            "63.25%\n"
          ]
        }
      ]
    },
    {
      "cell_type": "markdown",
      "source": [
        "## 2.2. Extension\n",
        "**Pain point**: có những tác vụ mà các hàm sẵn có trong Python (built-in function) không thực hiện được. Cách giải quyết:\n",
        "- Tự viết hàm riêng (user-defined function)\n",
        "- Sử dụng hàm người khác viết sẵn (import library)\n",
        "\n",
        "⏰ **Thêm hình**: Python workspace chứa built-in functions và built-in libraries.\n",
        "Extension = UDF + third party libs"
      ],
      "metadata": {
        "id": "JKt-IR7D1dEg"
      }
    },
    {
      "cell_type": "markdown",
      "source": [
        "### User-defined function\n",
        "Thành phần của một hàm: `function(input) -> output`\n",
        "- **Tên hàm**, bắt đầu sau lệnh `def` (define).\n",
        "- **Parameter** (tham số) là đầu vào của hàm.\n",
        "- **Body** là toàn bộ phần code thực hiện tính toán, biến đổi input. Lùi vào 1 tab so với lệnh `def`.\n",
        "- **Output** viết trong lệnh `return`."
      ],
      "metadata": {
        "id": "LTJw4Z_HkO47"
      }
    },
    {
      "cell_type": "code",
      "source": [
        "pow(base=5, exp=3)"
      ],
      "metadata": {
        "colab": {
          "base_uri": "https://localhost:8080/"
        },
        "id": "CSyCEgz3Fvuc",
        "outputId": "d33f749b-db87-4b8f-fb84-30cc452b13cd"
      },
      "execution_count": null,
      "outputs": [
        {
          "output_type": "execute_result",
          "data": {
            "text/plain": [
              "125"
            ]
          },
          "metadata": {},
          "execution_count": 3
        }
      ]
    },
    {
      "cell_type": "code",
      "source": [
        "pow(2, 5)"
      ],
      "metadata": {
        "colab": {
          "base_uri": "https://localhost:8080/"
        },
        "id": "G5urB8-hGD6W",
        "outputId": "d1849c80-d9b7-4a23-c5e8-2ee71b55869f"
      },
      "execution_count": null,
      "outputs": [
        {
          "output_type": "execute_result",
          "data": {
            "text/plain": [
              "32"
            ]
          },
          "metadata": {},
          "execution_count": 4
        }
      ]
    },
    {
      "cell_type": "code",
      "source": [
        "# cấu trúc của 1 hàm\n",
        "def square(x):\n",
        "    y = x ** 2\n",
        "    return y"
      ],
      "metadata": {
        "id": "RkAerOLZkUcK"
      },
      "execution_count": null,
      "outputs": []
    },
    {
      "cell_type": "code",
      "source": [
        "square(100)"
      ],
      "metadata": {
        "id": "C_7feoZZkeDC",
        "colab": {
          "base_uri": "https://localhost:8080/"
        },
        "outputId": "41a4bfce-a5d0-4977-a87f-4d27599f15d5"
      },
      "execution_count": null,
      "outputs": [
        {
          "output_type": "execute_result",
          "data": {
            "text/plain": [
              "10000"
            ]
          },
          "metadata": {},
          "execution_count": 9
        }
      ]
    },
    {
      "cell_type": "markdown",
      "metadata": {
        "id": "q_6OwsQ3cl4F"
      },
      "source": [
        "### Thư viện\n",
        "**Thư viện** (library, module hay package) là phần mở rộng của Python, chứa các object và function viết sẵn, nhằm phục vụ các mục đích riêng biệt như biến đổi dữ liệu (Pandas) hay vẽ biểu đồ (Seaborn). Đặc điểm:\n",
        "- Phần lớn thư viện do **cộng đồng** phát triển (third-party), một số ít thuộc về Python chính chủ (built-in).\n",
        "- Thường có **documentation** (tài liệu hướng dẫn) đầy đủ, source code được công khai trên **Github**."
      ]
    },
    {
      "cell_type": "markdown",
      "metadata": {
        "id": "0rD4Emeqcl4G"
      },
      "source": [
        "**Cách 1:** Import toàn bộ thư viện `numpy`."
      ]
    },
    {
      "cell_type": "code",
      "execution_count": null,
      "metadata": {
        "id": "_FHk_ufHcl4G",
        "outputId": "d5c9f9c3-b7c0-4e4c-baa5-e583ea083e93",
        "colab": {
          "base_uri": "https://localhost:8080/"
        }
      },
      "outputs": [
        {
          "output_type": "execute_result",
          "data": {
            "text/plain": [
              "4.0"
            ]
          },
          "metadata": {},
          "execution_count": 1
        }
      ],
      "source": [
        "import numpy\n",
        "numpy.sqrt(16)"
      ]
    },
    {
      "cell_type": "code",
      "execution_count": null,
      "metadata": {
        "id": "VnlYpU10cl4G",
        "outputId": "a6fc7fb0-dbc9-4343-e2da-c95e73b5da86",
        "colab": {
          "base_uri": "https://localhost:8080/"
        }
      },
      "outputs": [
        {
          "output_type": "execute_result",
          "data": {
            "text/plain": [
              "3.141592653589793"
            ]
          },
          "metadata": {},
          "execution_count": 2
        }
      ],
      "source": [
        "import numpy as np\n",
        "np.pi"
      ]
    },
    {
      "cell_type": "markdown",
      "metadata": {
        "id": "uu-JC-uBcl4G"
      },
      "source": [
        "**Cách 2:** Import các hàm và hằng số cụ thể."
      ]
    },
    {
      "cell_type": "code",
      "execution_count": null,
      "metadata": {
        "id": "l1E7TUuOcl4G",
        "outputId": "55afb16a-6dcb-4c5b-c5ae-10753e016d3c",
        "colab": {
          "base_uri": "https://localhost:8080/"
        }
      },
      "outputs": [
        {
          "output_type": "execute_result",
          "data": {
            "text/plain": [
              "1.7724538509055159"
            ]
          },
          "metadata": {},
          "execution_count": 3
        }
      ],
      "source": [
        "from numpy import pi, sqrt\n",
        "sqrt(pi)"
      ]
    },
    {
      "cell_type": "code",
      "execution_count": null,
      "metadata": {
        "id": "TvPYjr5jcl4H"
      },
      "outputs": [],
      "source": [
        "# should never be used\n",
        "from numpy import *"
      ]
    },
    {
      "cell_type": "markdown",
      "metadata": {
        "id": "sKMkzrRAxkaO"
      },
      "source": [
        "**Cách 3:** Import một phần nhỏ của thư viện. Áp dụng đối với những thư viện lớn, đa chức năng."
      ]
    },
    {
      "cell_type": "code",
      "execution_count": null,
      "metadata": {
        "id": "U4VuR6fqxkaP"
      },
      "outputs": [],
      "source": [
        "from scipy import stats"
      ]
    },
    {
      "cell_type": "markdown",
      "metadata": {
        "datalore": {
          "sheet_delimiter": false
        },
        "id": "56195ebd-8592-487a-ab3d-6a6711c6af4d"
      },
      "source": [
        "### Cài đặt thư viện\n",
        "\n",
        "Đối với các thư viện không có sẵn trong Python, cần cài đặt để sử dụng các hàm trong thư viện. Các thư viện chuyên dùng cho thống kê bao gồm:\n",
        "- Numpy và Scipy: tính toán thống kê và toán học\n",
        "- Pandas: xử lý dữ liệu dạng bảng\n",
        "- Seaborn: hỗ trợ vẽ biểu đồ thống kê"
      ]
    },
    {
      "cell_type": "code",
      "execution_count": null,
      "metadata": {
        "datalore": {
          "sheet_delimiter": false
        },
        "id": "07e40f4c-61f9-4e98-bf92-037e8fdc91d6"
      },
      "outputs": [],
      "source": [
        "# cài thư viện\n",
        "!pip install numpy"
      ]
    },
    {
      "cell_type": "markdown",
      "metadata": {
        "id": "b6f4ad72-76e2-4955-bd1b-317bd2981d32"
      },
      "source": [
        "#### Sử dụng thư viện"
      ]
    },
    {
      "cell_type": "code",
      "execution_count": null,
      "metadata": {
        "datalore": {
          "sheet_delimiter": false
        },
        "id": "ba83d9d3-cc33-4b71-ab99-f525f9f2e517"
      },
      "outputs": [],
      "source": [
        "import numpy as np"
      ]
    },
    {
      "cell_type": "code",
      "execution_count": null,
      "metadata": {
        "datalore": {
          "sheet_delimiter": false
        },
        "id": "95bb357d-8b76-42cf-ad7d-1a89152188d6",
        "colab": {
          "base_uri": "https://localhost:8080/"
        },
        "outputId": "e2fe885f-53f5-4de2-b861-d9ad1d3bd6e8"
      },
      "outputs": [
        {
          "output_type": "execute_result",
          "data": {
            "text/plain": [
              "3.141592653589793"
            ]
          },
          "metadata": {},
          "execution_count": 5
        }
      ],
      "source": [
        "# hằng số pi\n",
        "np.pi"
      ]
    },
    {
      "cell_type": "code",
      "execution_count": null,
      "metadata": {
        "datalore": {
          "sheet_delimiter": false
        },
        "id": "195215fe-898c-4044-8466-85fce73524d6",
        "colab": {
          "base_uri": "https://localhost:8080/"
        },
        "outputId": "bf045670-3cd1-4344-b47f-08f970b2788b"
      },
      "outputs": [
        {
          "output_type": "execute_result",
          "data": {
            "text/plain": [
              "0.0"
            ]
          },
          "metadata": {},
          "execution_count": 7
        }
      ],
      "source": [
        "# vô cùng\n",
        "1/np.inf"
      ]
    },
    {
      "cell_type": "code",
      "execution_count": null,
      "metadata": {
        "datalore": {
          "sheet_delimiter": false
        },
        "id": "2220e00f-0009-42a7-8570-e89e97b7b010",
        "colab": {
          "base_uri": "https://localhost:8080/"
        },
        "outputId": "84775162-50a0-49c1-ee8e-caba1066af5c"
      },
      "outputs": [
        {
          "output_type": "execute_result",
          "data": {
            "text/plain": [
              "5.0"
            ]
          },
          "metadata": {},
          "execution_count": 8
        }
      ],
      "source": [
        "# căn bậc 2\n",
        "np.sqrt(25)"
      ]
    },
    {
      "cell_type": "code",
      "execution_count": null,
      "metadata": {
        "datalore": {
          "sheet_delimiter": false
        },
        "id": "0753609d-ea44-4b39-82f7-7adc2a0da498",
        "colab": {
          "base_uri": "https://localhost:8080/"
        },
        "outputId": "f4a8f790-afe2-49a6-9501-d94db2e04fef"
      },
      "outputs": [
        {
          "output_type": "execute_result",
          "data": {
            "text/plain": [
              "1.0"
            ]
          },
          "metadata": {},
          "execution_count": 9
        }
      ],
      "source": [
        "# logarit tự nhiên\n",
        "np.log(np.e)"
      ]
    },
    {
      "cell_type": "markdown",
      "metadata": {
        "id": "c4b20b56-8e7e-47f0-999d-d8e5d3827b35"
      },
      "source": [
        "## 2.3. Numpy array"
      ]
    },
    {
      "cell_type": "markdown",
      "metadata": {
        "datalore": {
          "sheet_delimiter": false
        },
        "id": "9eff156f-2cce-4885-9d3d-23d7720690c6"
      },
      "source": [
        "[Numpy](https://numpy.org/doc/stable/user/index.html#user) là thư viện cung cấp các hàm tính toán, xử lí vector và ma trận, chuyên dùng cho thống kê và phân tích dữ liệu. Array là đối tượng làm việc chính của Numpy, có tên đầy đủ là n-dimensional array (ndarray). Array có thể là một đại lượng vô hướng (0 chiều), một vector (1 chiều) hay một ma trận (2 chiều)."
      ]
    },
    {
      "cell_type": "code",
      "execution_count": null,
      "metadata": {
        "datalore": {
          "sheet_delimiter": false
        },
        "id": "b5754c2c-d825-4e68-8064-0900825e3737"
      },
      "outputs": [],
      "source": [
        "import numpy as np"
      ]
    },
    {
      "cell_type": "code",
      "execution_count": null,
      "metadata": {
        "datalore": {
          "sheet_delimiter": false
        },
        "id": "0294cb8a-9ece-4e67-9837-7a538919ef38"
      },
      "outputs": [],
      "source": [
        "np.array(7)"
      ]
    },
    {
      "cell_type": "code",
      "execution_count": null,
      "metadata": {
        "datalore": {
          "sheet_delimiter": false
        },
        "id": "8dba27d3-8f73-4f49-b52b-b1b17d71ac25"
      },
      "outputs": [],
      "source": [
        "type(np.array([1, 2, 3]))"
      ]
    },
    {
      "cell_type": "code",
      "execution_count": null,
      "metadata": {
        "datalore": {
          "sheet_delimiter": false
        },
        "id": "38598a00-cf76-453e-a116-7d1dcb97a349"
      },
      "outputs": [],
      "source": [
        "np.array([[3, 4], [7, 8]])"
      ]
    },
    {
      "cell_type": "code",
      "execution_count": null,
      "metadata": {
        "datalore": {
          "sheet_delimiter": false
        },
        "id": "0c14ecf7-7dce-4b73-a8d5-99dc08664ea4"
      },
      "outputs": [],
      "source": [
        "# cộng 2 array kết quả là cộng từng phần tử\n",
        "np.array([1, 2, 3]) + np.array([4, 5, 6])"
      ]
    },
    {
      "cell_type": "code",
      "execution_count": null,
      "metadata": {
        "datalore": {
          "sheet_delimiter": false
        },
        "id": "91f8752c-cb48-450d-8c4c-73303fbb6889"
      },
      "outputs": [],
      "source": [
        "# nhân 1 array với 1 số, kết quả là nhân số đó với từng phần tử\n",
        "np.array([1, 2, 3]) * 7"
      ]
    },
    {
      "cell_type": "code",
      "execution_count": null,
      "metadata": {
        "datalore": {
          "sheet_delimiter": false
        },
        "id": "08e869a2-b878-4269-af66-9e06ddcc9453"
      },
      "outputs": [],
      "source": [
        "x = np.array([-4, 6, -7])\n",
        "np.abs(x)"
      ]
    },
    {
      "cell_type": "markdown",
      "metadata": {
        "id": "a53dce20-237c-4267-aa69-d61bedaa67df"
      },
      "source": [
        "♈ **Case study 1**\n",
        "\n",
        "Tạo array A từ 0 đến 10 và array B chứa các số chẵn từ 0 đến 20 sau đó thực hiện phép nhân và cộng 2 array.\n",
        "*Lưu ý: Chỉ có thể thực hiện phép tính khi 2 array có cùng độ dài*"
      ]
    },
    {
      "cell_type": "code",
      "source": [
        "#@title\n",
        "import numpy as np\n",
        "A = np.arange(0, 11)\n",
        "B = np.arange(0, 21, 2)\n",
        "A+B"
      ],
      "metadata": {
        "id": "FTYQbnKaJZLC"
      },
      "execution_count": null,
      "outputs": []
    },
    {
      "cell_type": "markdown",
      "source": [
        "## 2.4. Pandas dataframe\n",
        "\n",
        "[Pandas](https://pandas.pydata.org/docs/user_guide/index.html#user-guide) là thư viện cung cấp các hàm để làm sạch, xử lý dữ liệu và trực quan hóa dữ liệu dạng bảng. DataFrame là đối tượng làm việc chính trong Pandas và cũng là đối tượng làm việc chính của 1 DA.\n",
        "\n",
        "Ví dụ về 1 dataframe (df):\n",
        "\n",
        "|**STT**|ID|Customer|Age|Gender|\n",
        "|:-|:-:|:-:|:-:|:-:|\n",
        "|1|001|Alex|30|Male\n",
        "|2|015|Kimmie|20|Female\n",
        "|3|149|Tony|25|Male\n",
        "\n",
        "Trong mỗi df, các cột được gọi là các trường dữ liệu và các dòng được gọi là các bản ghi."
      ],
      "metadata": {
        "id": "G6KQwcz7eXdM"
      }
    },
    {
      "cell_type": "code",
      "source": [
        "import pandas as pd"
      ],
      "metadata": {
        "id": "f5bDsqXAhyjY"
      },
      "execution_count": null,
      "outputs": []
    },
    {
      "cell_type": "code",
      "source": [
        "# đọc dữ liệu\n",
        "df = pd.read_csv(\"https://raw.githubusercontent.com/hungpq7/course-resource/main/data/hypothesis.csv\")"
      ],
      "metadata": {
        "id": "H4TA2VdOhysv"
      },
      "execution_count": null,
      "outputs": []
    },
    {
      "cell_type": "code",
      "source": [
        "df.columns"
      ],
      "metadata": {
        "colab": {
          "base_uri": "https://localhost:8080/"
        },
        "id": "RM_Ky1s-kjOm",
        "outputId": "0079568a-6f27-4a37-ad12-d012a14a9c7d"
      },
      "execution_count": null,
      "outputs": [
        {
          "output_type": "execute_result",
          "data": {
            "text/plain": [
              "Index(['id', 'area', 'gender', 'age', 'age_group', 'year_of_school', 'degree',\n",
              "       'job', 'know_english', 'know_france', 'know_chinese', 'income',\n",
              "       'booking_date', 'flight_date', 'flight_status', 'professionally_staff',\n",
              "       'customer_service ', 'diversity_product', 'good_price',\n",
              "       'easily_transaction', 'goodlooking_staff', 'diversity_flighttime',\n",
              "       'good_construction'],\n",
              "      dtype='object')"
            ]
          },
          "metadata": {},
          "execution_count": 14
        }
      ]
    },
    {
      "cell_type": "code",
      "source": [
        "df.head()"
      ],
      "metadata": {
        "id": "EsLg5Spphy12",
        "colab": {
          "base_uri": "https://localhost:8080/",
          "height": 300
        },
        "outputId": "0f8f0ae0-9560-4ef3-e0ce-ae698c51f794"
      },
      "execution_count": null,
      "outputs": [
        {
          "output_type": "execute_result",
          "data": {
            "text/plain": [
              "   id      area  gender  age age_group  year_of_school     degree      job  \\\n",
              "0   1   central  female   69    middle              16     master  manager   \n",
              "1   2  southern  female   50    middle              12  highshool  officer   \n",
              "2   3  northern    male   73     elder              12  highshool  officer   \n",
              "3   4  northern  female   73     elder              12  highshool  officer   \n",
              "4   5   central    male   69    middle              16     master  officer   \n",
              "\n",
              "   know_english  know_france  ...  flight_date  flight_status  \\\n",
              "0             1            1  ...   01/05/2013              1   \n",
              "1             0            0  ...   01/05/2013              1   \n",
              "2             1            0  ...   01/05/2013              1   \n",
              "3             0            0  ...   01/05/2013              1   \n",
              "4             1            0  ...   01/05/2013              0   \n",
              "\n",
              "  professionally_staff customer_service   diversity_product  good_price  \\\n",
              "0                    2                 2                  1           1   \n",
              "1                    3                 3                  3           2   \n",
              "2                    2                 2                  1           2   \n",
              "3                    5                 3                  2           4   \n",
              "4                    3                 3                  3           3   \n",
              "\n",
              "   easily_transaction  goodlooking_staff  diversity_flighttime  \\\n",
              "0                   2                  2                     1   \n",
              "1                   3                  3                     2   \n",
              "2                   3                  5                     1   \n",
              "3                   5                  3                     2   \n",
              "4                   3                  3                     3   \n",
              "\n",
              "   good_construction  \n",
              "0                  1  \n",
              "1                  3  \n",
              "2                  1  \n",
              "3                  2  \n",
              "4                  3  \n",
              "\n",
              "[5 rows x 23 columns]"
            ],
            "text/html": [
              "\n",
              "  <div id=\"df-d2b961b3-e85e-42d2-802a-17736f481ba3\">\n",
              "    <div class=\"colab-df-container\">\n",
              "      <div>\n",
              "<style scoped>\n",
              "    .dataframe tbody tr th:only-of-type {\n",
              "        vertical-align: middle;\n",
              "    }\n",
              "\n",
              "    .dataframe tbody tr th {\n",
              "        vertical-align: top;\n",
              "    }\n",
              "\n",
              "    .dataframe thead th {\n",
              "        text-align: right;\n",
              "    }\n",
              "</style>\n",
              "<table border=\"1\" class=\"dataframe\">\n",
              "  <thead>\n",
              "    <tr style=\"text-align: right;\">\n",
              "      <th></th>\n",
              "      <th>id</th>\n",
              "      <th>area</th>\n",
              "      <th>gender</th>\n",
              "      <th>age</th>\n",
              "      <th>age_group</th>\n",
              "      <th>year_of_school</th>\n",
              "      <th>degree</th>\n",
              "      <th>job</th>\n",
              "      <th>know_english</th>\n",
              "      <th>know_france</th>\n",
              "      <th>...</th>\n",
              "      <th>flight_date</th>\n",
              "      <th>flight_status</th>\n",
              "      <th>professionally_staff</th>\n",
              "      <th>customer_service</th>\n",
              "      <th>diversity_product</th>\n",
              "      <th>good_price</th>\n",
              "      <th>easily_transaction</th>\n",
              "      <th>goodlooking_staff</th>\n",
              "      <th>diversity_flighttime</th>\n",
              "      <th>good_construction</th>\n",
              "    </tr>\n",
              "  </thead>\n",
              "  <tbody>\n",
              "    <tr>\n",
              "      <th>0</th>\n",
              "      <td>1</td>\n",
              "      <td>central</td>\n",
              "      <td>female</td>\n",
              "      <td>69</td>\n",
              "      <td>middle</td>\n",
              "      <td>16</td>\n",
              "      <td>master</td>\n",
              "      <td>manager</td>\n",
              "      <td>1</td>\n",
              "      <td>1</td>\n",
              "      <td>...</td>\n",
              "      <td>01/05/2013</td>\n",
              "      <td>1</td>\n",
              "      <td>2</td>\n",
              "      <td>2</td>\n",
              "      <td>1</td>\n",
              "      <td>1</td>\n",
              "      <td>2</td>\n",
              "      <td>2</td>\n",
              "      <td>1</td>\n",
              "      <td>1</td>\n",
              "    </tr>\n",
              "    <tr>\n",
              "      <th>1</th>\n",
              "      <td>2</td>\n",
              "      <td>southern</td>\n",
              "      <td>female</td>\n",
              "      <td>50</td>\n",
              "      <td>middle</td>\n",
              "      <td>12</td>\n",
              "      <td>highshool</td>\n",
              "      <td>officer</td>\n",
              "      <td>0</td>\n",
              "      <td>0</td>\n",
              "      <td>...</td>\n",
              "      <td>01/05/2013</td>\n",
              "      <td>1</td>\n",
              "      <td>3</td>\n",
              "      <td>3</td>\n",
              "      <td>3</td>\n",
              "      <td>2</td>\n",
              "      <td>3</td>\n",
              "      <td>3</td>\n",
              "      <td>2</td>\n",
              "      <td>3</td>\n",
              "    </tr>\n",
              "    <tr>\n",
              "      <th>2</th>\n",
              "      <td>3</td>\n",
              "      <td>northern</td>\n",
              "      <td>male</td>\n",
              "      <td>73</td>\n",
              "      <td>elder</td>\n",
              "      <td>12</td>\n",
              "      <td>highshool</td>\n",
              "      <td>officer</td>\n",
              "      <td>1</td>\n",
              "      <td>0</td>\n",
              "      <td>...</td>\n",
              "      <td>01/05/2013</td>\n",
              "      <td>1</td>\n",
              "      <td>2</td>\n",
              "      <td>2</td>\n",
              "      <td>1</td>\n",
              "      <td>2</td>\n",
              "      <td>3</td>\n",
              "      <td>5</td>\n",
              "      <td>1</td>\n",
              "      <td>1</td>\n",
              "    </tr>\n",
              "    <tr>\n",
              "      <th>3</th>\n",
              "      <td>4</td>\n",
              "      <td>northern</td>\n",
              "      <td>female</td>\n",
              "      <td>73</td>\n",
              "      <td>elder</td>\n",
              "      <td>12</td>\n",
              "      <td>highshool</td>\n",
              "      <td>officer</td>\n",
              "      <td>0</td>\n",
              "      <td>0</td>\n",
              "      <td>...</td>\n",
              "      <td>01/05/2013</td>\n",
              "      <td>1</td>\n",
              "      <td>5</td>\n",
              "      <td>3</td>\n",
              "      <td>2</td>\n",
              "      <td>4</td>\n",
              "      <td>5</td>\n",
              "      <td>3</td>\n",
              "      <td>2</td>\n",
              "      <td>2</td>\n",
              "    </tr>\n",
              "    <tr>\n",
              "      <th>4</th>\n",
              "      <td>5</td>\n",
              "      <td>central</td>\n",
              "      <td>male</td>\n",
              "      <td>69</td>\n",
              "      <td>middle</td>\n",
              "      <td>16</td>\n",
              "      <td>master</td>\n",
              "      <td>officer</td>\n",
              "      <td>1</td>\n",
              "      <td>0</td>\n",
              "      <td>...</td>\n",
              "      <td>01/05/2013</td>\n",
              "      <td>0</td>\n",
              "      <td>3</td>\n",
              "      <td>3</td>\n",
              "      <td>3</td>\n",
              "      <td>3</td>\n",
              "      <td>3</td>\n",
              "      <td>3</td>\n",
              "      <td>3</td>\n",
              "      <td>3</td>\n",
              "    </tr>\n",
              "  </tbody>\n",
              "</table>\n",
              "<p>5 rows × 23 columns</p>\n",
              "</div>\n",
              "      <button class=\"colab-df-convert\" onclick=\"convertToInteractive('df-d2b961b3-e85e-42d2-802a-17736f481ba3')\"\n",
              "              title=\"Convert this dataframe to an interactive table.\"\n",
              "              style=\"display:none;\">\n",
              "        \n",
              "  <svg xmlns=\"http://www.w3.org/2000/svg\" height=\"24px\"viewBox=\"0 0 24 24\"\n",
              "       width=\"24px\">\n",
              "    <path d=\"M0 0h24v24H0V0z\" fill=\"none\"/>\n",
              "    <path d=\"M18.56 5.44l.94 2.06.94-2.06 2.06-.94-2.06-.94-.94-2.06-.94 2.06-2.06.94zm-11 1L8.5 8.5l.94-2.06 2.06-.94-2.06-.94L8.5 2.5l-.94 2.06-2.06.94zm10 10l.94 2.06.94-2.06 2.06-.94-2.06-.94-.94-2.06-.94 2.06-2.06.94z\"/><path d=\"M17.41 7.96l-1.37-1.37c-.4-.4-.92-.59-1.43-.59-.52 0-1.04.2-1.43.59L10.3 9.45l-7.72 7.72c-.78.78-.78 2.05 0 2.83L4 21.41c.39.39.9.59 1.41.59.51 0 1.02-.2 1.41-.59l7.78-7.78 2.81-2.81c.8-.78.8-2.07 0-2.86zM5.41 20L4 18.59l7.72-7.72 1.47 1.35L5.41 20z\"/>\n",
              "  </svg>\n",
              "      </button>\n",
              "      \n",
              "  <style>\n",
              "    .colab-df-container {\n",
              "      display:flex;\n",
              "      flex-wrap:wrap;\n",
              "      gap: 12px;\n",
              "    }\n",
              "\n",
              "    .colab-df-convert {\n",
              "      background-color: #E8F0FE;\n",
              "      border: none;\n",
              "      border-radius: 50%;\n",
              "      cursor: pointer;\n",
              "      display: none;\n",
              "      fill: #1967D2;\n",
              "      height: 32px;\n",
              "      padding: 0 0 0 0;\n",
              "      width: 32px;\n",
              "    }\n",
              "\n",
              "    .colab-df-convert:hover {\n",
              "      background-color: #E2EBFA;\n",
              "      box-shadow: 0px 1px 2px rgba(60, 64, 67, 0.3), 0px 1px 3px 1px rgba(60, 64, 67, 0.15);\n",
              "      fill: #174EA6;\n",
              "    }\n",
              "\n",
              "    [theme=dark] .colab-df-convert {\n",
              "      background-color: #3B4455;\n",
              "      fill: #D2E3FC;\n",
              "    }\n",
              "\n",
              "    [theme=dark] .colab-df-convert:hover {\n",
              "      background-color: #434B5C;\n",
              "      box-shadow: 0px 1px 3px 1px rgba(0, 0, 0, 0.15);\n",
              "      filter: drop-shadow(0px 1px 2px rgba(0, 0, 0, 0.3));\n",
              "      fill: #FFFFFF;\n",
              "    }\n",
              "  </style>\n",
              "\n",
              "      <script>\n",
              "        const buttonEl =\n",
              "          document.querySelector('#df-d2b961b3-e85e-42d2-802a-17736f481ba3 button.colab-df-convert');\n",
              "        buttonEl.style.display =\n",
              "          google.colab.kernel.accessAllowed ? 'block' : 'none';\n",
              "\n",
              "        async function convertToInteractive(key) {\n",
              "          const element = document.querySelector('#df-d2b961b3-e85e-42d2-802a-17736f481ba3');\n",
              "          const dataTable =\n",
              "            await google.colab.kernel.invokeFunction('convertToInteractive',\n",
              "                                                     [key], {});\n",
              "          if (!dataTable) return;\n",
              "\n",
              "          const docLinkHtml = 'Like what you see? Visit the ' +\n",
              "            '<a target=\"_blank\" href=https://colab.research.google.com/notebooks/data_table.ipynb>data table notebook</a>'\n",
              "            + ' to learn more about interactive tables.';\n",
              "          element.innerHTML = '';\n",
              "          dataTable['output_type'] = 'display_data';\n",
              "          await google.colab.output.renderOutput(dataTable, element);\n",
              "          const docLink = document.createElement('div');\n",
              "          docLink.innerHTML = docLinkHtml;\n",
              "          element.appendChild(docLink);\n",
              "        }\n",
              "      </script>\n",
              "    </div>\n",
              "  </div>\n",
              "  "
            ]
          },
          "metadata": {},
          "execution_count": 12
        }
      ]
    },
    {
      "cell_type": "code",
      "source": [
        "# truy cập 1 cột\n",
        "df['gender']"
      ],
      "metadata": {
        "id": "62hbx_wRjxQZ",
        "colab": {
          "base_uri": "https://localhost:8080/"
        },
        "outputId": "858f4e5c-e1a4-4782-a2e7-e91ddcfdadab"
      },
      "execution_count": null,
      "outputs": [
        {
          "output_type": "execute_result",
          "data": {
            "text/plain": [
              "0      female\n",
              "1      female\n",
              "2        male\n",
              "3      female\n",
              "4        male\n",
              "        ...  \n",
              "495      male\n",
              "496      male\n",
              "497    female\n",
              "498    female\n",
              "499      male\n",
              "Name: gender, Length: 500, dtype: object"
            ]
          },
          "metadata": {},
          "execution_count": 13
        }
      ]
    },
    {
      "cell_type": "code",
      "source": [
        "df.gender"
      ],
      "metadata": {
        "id": "k-Cn87uxlbpq"
      },
      "execution_count": null,
      "outputs": []
    },
    {
      "cell_type": "code",
      "source": [
        "# truy cập nhiều cột\n",
        "df[['gender', 'age', 'job']]"
      ],
      "metadata": {
        "id": "LR3Nk1XBjxTf"
      },
      "execution_count": null,
      "outputs": []
    },
    {
      "cell_type": "code",
      "source": [
        "# liệt kê tên cột\n",
        "df.columns"
      ],
      "metadata": {
        "id": "SOoxeDvHjxWl"
      },
      "execution_count": null,
      "outputs": []
    },
    {
      "cell_type": "code",
      "source": [
        "# tính toán trên các cột\n",
        "df['language_count'] = df['know_english'] + df['know_france'] + df['know_chinese']"
      ],
      "metadata": {
        "id": "FbBOOmFsjxZC"
      },
      "execution_count": null,
      "outputs": []
    },
    {
      "cell_type": "code",
      "source": [
        "# filter\n",
        "df[df['gender']=='male']"
      ],
      "metadata": {
        "id": "C7wy163nk2Cx"
      },
      "execution_count": null,
      "outputs": []
    },
    {
      "cell_type": "code",
      "source": [
        "df['age'].sum()"
      ],
      "metadata": {
        "id": "1IkzHWaNk2Ix",
        "colab": {
          "base_uri": "https://localhost:8080/"
        },
        "outputId": "7aa31ae3-a056-4839-cdee-e27cc51d1e95"
      },
      "execution_count": null,
      "outputs": [
        {
          "output_type": "execute_result",
          "data": {
            "text/plain": [
              "29892"
            ]
          },
          "metadata": {},
          "execution_count": 16
        }
      ]
    },
    {
      "cell_type": "code",
      "source": [
        "# group by\n",
        "df.groupby('gender').count()"
      ],
      "metadata": {
        "id": "vyIa71ODkuV8"
      },
      "execution_count": null,
      "outputs": []
    }
  ]
}